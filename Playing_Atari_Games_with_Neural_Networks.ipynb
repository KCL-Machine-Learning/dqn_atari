{
  "nbformat": 4,
  "nbformat_minor": 0,
  "metadata": {
    "colab": {
      "name": "Playing Atari Games with Neural Networks.ipynb",
      "provenance": [],
      "collapsed_sections": [],
      "machine_shape": "hm",
      "authorship_tag": "ABX9TyNIlWTcQ3aoyx8mTAKVs172",
      "include_colab_link": true
    },
    "kernelspec": {
      "name": "python3",
      "display_name": "Python 3"
    },
    "language_info": {
      "name": "python"
    },
    "accelerator": "GPU"
  },
  "cells": [
    {
      "cell_type": "markdown",
      "metadata": {
        "id": "view-in-github",
        "colab_type": "text"
      },
      "source": [
        "<a href=\"https://colab.research.google.com/github/KCL-Machine-Learning/dqn_atari/blob/main/Playing_Atari_Games_with_Neural_Networks.ipynb\" target=\"_parent\"><img src=\"https://colab.research.google.com/assets/colab-badge.svg\" alt=\"Open In Colab\"/></a>"
      ]
    },
    {
      "cell_type": "code",
      "metadata": {
        "id": "n1Pf2WT4nAqq",
        "colab": {
          "base_uri": "https://localhost:8080/"
        },
        "outputId": "ba4682ef-7687-48f1-deb3-9ecd0821fd66"
      },
      "source": [
        "# Code to install tools that help run open ai gym\n",
        "import urllib.request\n",
        "urllib.request.urlretrieve('http://www.atarimania.com/roms/Roms.rar','Roms.rar')\n",
        "!pip install unrar\n",
        "!unrar x Roms.rar\n",
        "!mkdir rars\n",
        "!mv HC\\ ROMS.zip   rars\n",
        "!mv ROMS.zip  rars\n",
        "!python -m atari_py.import_roms rars"
      ],
      "execution_count": null,
      "outputs": [
        {
          "output_type": "stream",
          "name": "stdout",
          "text": [
            "Collecting unrar\n",
            "  Downloading unrar-0.4-py3-none-any.whl (25 kB)\n",
            "Installing collected packages: unrar\n",
            "Successfully installed unrar-0.4\n",
            "\n",
            "UNRAR 5.50 freeware      Copyright (c) 1993-2017 Alexander Roshal\n",
            "\n",
            "\n",
            "Extracting from Roms.rar\n",
            "\n",
            "Extracting  HC ROMS.zip                                                  \b\b\b\b 36%\b\b\b\b\b  OK \n",
            "Extracting  ROMS.zip                                                     \b\b\b\b 74%\b\b\b\b 99%\b\b\b\b\b  OK \n",
            "All OK\n",
            "copying adventure.bin from ROMS/Adventure (1980) (Atari, Warren Robinett) (CX2613, CX2613P) (PAL).bin to /usr/local/lib/python3.7/dist-packages/atari_py/atari_roms/adventure.bin\n",
            "copying air_raid.bin from ROMS/Air Raid (Men-A-Vision) (PAL) ~.bin to /usr/local/lib/python3.7/dist-packages/atari_py/atari_roms/air_raid.bin\n",
            "copying alien.bin from ROMS/Alien (1982) (20th Century Fox Video Games, Douglas 'Dallas North' Neubauer) (11006) ~.bin to /usr/local/lib/python3.7/dist-packages/atari_py/atari_roms/alien.bin\n",
            "copying amidar.bin from ROMS/Amidar (1982) (Parker Brothers, Ed Temple) (PB5310) ~.bin to /usr/local/lib/python3.7/dist-packages/atari_py/atari_roms/amidar.bin\n",
            "copying assault.bin from ROMS/Assault (AKA Sky Alien) (1983) (Bomb - Onbase) (CA281).bin to /usr/local/lib/python3.7/dist-packages/atari_py/atari_roms/assault.bin\n",
            "copying asterix.bin from ROMS/Asterix (AKA Taz) (07-27-1983) (Atari, Jerome Domurat, Steve Woita) (CX2696) (Prototype).bin to /usr/local/lib/python3.7/dist-packages/atari_py/atari_roms/asterix.bin\n",
            "copying asteroids.bin from ROMS/Asteroids (1981) (Atari, Brad Stewart - Sears) (CX2649 - 49-75163) [no copyright] ~.bin to /usr/local/lib/python3.7/dist-packages/atari_py/atari_roms/asteroids.bin\n",
            "copying atlantis.bin from ROMS/Atlantis (Lost City of Atlantis) (1982) (Imagic, Dennis Koble) (720103-1A, 720103-1B, IA3203, IX-010-04) ~.bin to /usr/local/lib/python3.7/dist-packages/atari_py/atari_roms/atlantis.bin\n",
            "copying bank_heist.bin from ROMS/Bank Heist (Bonnie & Clyde, Cops 'n' Robbers, Hold-Up, Roaring 20's) (1983) (20th Century Fox Video Games, Bill Aspromonte) (11012) ~.bin to /usr/local/lib/python3.7/dist-packages/atari_py/atari_roms/bank_heist.bin\n",
            "copying battle_zone.bin from ROMS/Battlezone (1983) (Atari - GCC, Mike Feinstein, Brad Rice) (CX2681) ~.bin to /usr/local/lib/python3.7/dist-packages/atari_py/atari_roms/battle_zone.bin\n",
            "copying beam_rider.bin from ROMS/Beamrider (1984) (Activision - Cheshire Engineering, David Rolfe, Larry Zwick) (AZ-037-04) ~.bin to /usr/local/lib/python3.7/dist-packages/atari_py/atari_roms/beam_rider.bin\n",
            "copying berzerk.bin from ROMS/Berzerk (1982) (Atari, Dan Hitchens - Sears) (CX2650 - 49-75168) ~.bin to /usr/local/lib/python3.7/dist-packages/atari_py/atari_roms/berzerk.bin\n",
            "copying bowling.bin from ROMS/Bowling (1979) (Atari, Larry Kaplan - Sears) (CX2628 - 6-99842, 49-75117) ~.bin to /usr/local/lib/python3.7/dist-packages/atari_py/atari_roms/bowling.bin\n",
            "copying boxing.bin from ROMS/Boxing - La Boxe (1980) (Activision, Bob Whitehead) (AG-002, CAG-002, AG-002-04) ~.bin to /usr/local/lib/python3.7/dist-packages/atari_py/atari_roms/boxing.bin\n",
            "copying breakout.bin from ROMS/Breakout - Breakaway IV (Paddle) (1978) (Atari, Brad Stewart - Sears) (CX2622 - 6-99813, 49-75107) ~.bin to /usr/local/lib/python3.7/dist-packages/atari_py/atari_roms/breakout.bin\n",
            "copying carnival.bin from ROMS/Carnival (1982) (Coleco - Woodside Design Associates, Steve 'Jessica Stevens' Kitchen) (2468) ~.bin to /usr/local/lib/python3.7/dist-packages/atari_py/atari_roms/carnival.bin\n",
            "copying centipede.bin from ROMS/Centipede (1983) (Atari - GCC) (CX2676) ~.bin to /usr/local/lib/python3.7/dist-packages/atari_py/atari_roms/centipede.bin\n",
            "copying chopper_command.bin from ROMS/Chopper Command (1982) (Activision, Bob Whitehead) (AX-015, AX-015-04) ~.bin to /usr/local/lib/python3.7/dist-packages/atari_py/atari_roms/chopper_command.bin\n",
            "copying crazy_climber.bin from ROMS/Crazy Climber (1983) (Atari - Roklan, Joe Gaucher, Alex Leavens) (CX2683) ~.bin to /usr/local/lib/python3.7/dist-packages/atari_py/atari_roms/crazy_climber.bin\n",
            "copying defender.bin from ROMS/Defender (1982) (Atari, Robert C. Polaro, Alan J. Murphy - Sears) (CX2609 - 49-75186) ~.bin to /usr/local/lib/python3.7/dist-packages/atari_py/atari_roms/defender.bin\n",
            "copying demon_attack.bin from ROMS/Demon Attack (Death from Above) (1982) (Imagic, Rob Fulop) (720000-200, 720101-1B, 720101-1C, IA3200, IA3200C, IX-006-04) ~.bin to /usr/local/lib/python3.7/dist-packages/atari_py/atari_roms/demon_attack.bin\n",
            "copying donkey_kong.bin from ROMS/Donkey Kong (1982) (Coleco - Woodside Design Associates - Imaginative Systems Software, Garry Kitchen) (2451) ~.bin to /usr/local/lib/python3.7/dist-packages/atari_py/atari_roms/donkey_kong.bin\n",
            "copying double_dunk.bin from ROMS/Double Dunk (Super Basketball) (1989) (Atari, Matthew L. Hubbard) (CX26159) ~.bin to /usr/local/lib/python3.7/dist-packages/atari_py/atari_roms/double_dunk.bin\n",
            "copying elevator_action.bin from ROMS/Elevator Action (1983) (Atari, Dan Hitchens) (CX26126) (Prototype) ~.bin to /usr/local/lib/python3.7/dist-packages/atari_py/atari_roms/elevator_action.bin\n",
            "copying enduro.bin from ROMS/Enduro (1983) (Activision, Larry Miller) (AX-026, AX-026-04) ~.bin to /usr/local/lib/python3.7/dist-packages/atari_py/atari_roms/enduro.bin\n",
            "copying fishing_derby.bin from ROMS/Fishing Derby (1980) (Activision, David Crane) (AG-004) ~.bin to /usr/local/lib/python3.7/dist-packages/atari_py/atari_roms/fishing_derby.bin\n",
            "copying freeway.bin from ROMS/Freeway (1981) (Activision, David Crane) (AG-009, AG-009-04) ~.bin to /usr/local/lib/python3.7/dist-packages/atari_py/atari_roms/freeway.bin\n",
            "copying frogger.bin from ROMS/Frogger (1982) (Parker Brothers, Ed English, David Lamkins) (PB5300) ~.bin to /usr/local/lib/python3.7/dist-packages/atari_py/atari_roms/frogger.bin\n",
            "copying frostbite.bin from ROMS/Frostbite (1983) (Activision, Steve Cartwright) (AX-031) ~.bin to /usr/local/lib/python3.7/dist-packages/atari_py/atari_roms/frostbite.bin\n",
            "copying galaxian.bin from ROMS/Galaxian (1983) (Atari - GCC, Mark Ackerman, Tom Calderwood, Glenn Parker) (CX2684) ~.bin to /usr/local/lib/python3.7/dist-packages/atari_py/atari_roms/galaxian.bin\n",
            "copying gopher.bin from ROMS/Gopher (Gopher Attack) (1982) (U.S. Games Corporation - JWDA, Sylvia Day, Todd Marshall, Robin McDaniel, Henry Will IV) (VC2001) ~.bin to /usr/local/lib/python3.7/dist-packages/atari_py/atari_roms/gopher.bin\n",
            "copying gravitar.bin from ROMS/Gravitar (1983) (Atari, Dan Hitchens, Mimi Nyden) (CX2685) ~.bin to /usr/local/lib/python3.7/dist-packages/atari_py/atari_roms/gravitar.bin\n",
            "copying hero.bin from ROMS/H.E.R.O. (1984) (Activision, John Van Ryzin) (AZ-036-04) ~.bin to /usr/local/lib/python3.7/dist-packages/atari_py/atari_roms/hero.bin\n",
            "copying ice_hockey.bin from ROMS/Ice Hockey - Le Hockey Sur Glace (1981) (Activision, Alan Miller) (AX-012, CAX-012, AX-012-04) ~.bin to /usr/local/lib/python3.7/dist-packages/atari_py/atari_roms/ice_hockey.bin\n",
            "copying jamesbond.bin from ROMS/James Bond 007 (James Bond Agent 007) (1984) (Parker Brothers - On-Time Software, Joe Gaucher, Louis Marbel) (PB5110) ~.bin to /usr/local/lib/python3.7/dist-packages/atari_py/atari_roms/jamesbond.bin\n",
            "copying journey_escape.bin from ROMS/Journey Escape (1983) (Data Age, J. Ray Dettling) (112-006) ~.bin to /usr/local/lib/python3.7/dist-packages/atari_py/atari_roms/journey_escape.bin\n",
            "copying kaboom.bin from ROMS/Kaboom! (Paddle) (1981) (Activision, Larry Kaplan, David Crane) (AG-010, AG-010-04) ~.bin to /usr/local/lib/python3.7/dist-packages/atari_py/atari_roms/kaboom.bin\n",
            "copying kangaroo.bin from ROMS/Kangaroo (1983) (Atari - GCC, Kevin Osborn) (CX2689) ~.bin to /usr/local/lib/python3.7/dist-packages/atari_py/atari_roms/kangaroo.bin\n",
            "copying keystone_kapers.bin from ROMS/Keystone Kapers - Raueber und Gendarm (1983) (Activision, Garry Kitchen - Ariola) (EAX-025, EAX-025-04I - 711 025-725) (PAL).bin to /usr/local/lib/python3.7/dist-packages/atari_py/atari_roms/keystone_kapers.bin\n",
            "copying king_kong.bin from ROMS/King Kong (1982) (Tigervision - Software Electronics Corporation, Karl T. Olinger - Teldec) (7-001 - 3.60001 VE) (PAL).bin to /usr/local/lib/python3.7/dist-packages/atari_py/atari_roms/king_kong.bin\n",
            "copying koolaid.bin from ROMS/Kool-Aid Man (Kool Aid Pitcher Man) (1983) (M Network, Stephen Tatsumi, Jane Terjung - Kool Aid) (MT4648) ~.bin to /usr/local/lib/python3.7/dist-packages/atari_py/atari_roms/koolaid.bin\n",
            "copying krull.bin from ROMS/Krull (1983) (Atari, Jerome Domurat, Dave Staugas) (CX2682) ~.bin to /usr/local/lib/python3.7/dist-packages/atari_py/atari_roms/krull.bin\n",
            "copying kung_fu_master.bin from ROMS/Kung-Fu Master (1987) (Activision - Imagineering, Dan Kitchen, Garry Kitchen) (AG-039-04) ~.bin to /usr/local/lib/python3.7/dist-packages/atari_py/atari_roms/kung_fu_master.bin\n",
            "copying laser_gates.bin from ROMS/Laser Gates (AKA Innerspace) (1983) (Imagic, Dan Oliver) (720118-2A, 13208, EIX-007-04I) (PAL).bin to /usr/local/lib/python3.7/dist-packages/atari_py/atari_roms/laser_gates.bin\n",
            "copying lost_luggage.bin from ROMS/Lost Luggage (Airport Mayhem) (1982) (Apollo - Games by Apollo, Larry Minor, Ernie Runyon, Ed Salvo) (AP-2004) [no opening scene] ~.bin to /usr/local/lib/python3.7/dist-packages/atari_py/atari_roms/lost_luggage.bin\n",
            "copying montezuma_revenge.bin from ROMS/Montezuma's Revenge - Featuring Panama Joe (1984) (Parker Brothers - JWDA, Henry Will IV) (PB5760) ~.bin to /usr/local/lib/python3.7/dist-packages/atari_py/atari_roms/montezuma_revenge.bin\n",
            "copying mr_do.bin from ROMS/Mr. Do! (1983) (CBS Electronics, Ed English) (4L4478) (PAL).bin to /usr/local/lib/python3.7/dist-packages/atari_py/atari_roms/mr_do.bin\n",
            "copying ms_pacman.bin from ROMS/Ms. Pac-Man (1983) (Atari - GCC, Mark Ackerman, Glenn Parker) (CX2675) ~.bin to /usr/local/lib/python3.7/dist-packages/atari_py/atari_roms/ms_pacman.bin\n",
            "copying name_this_game.bin from ROMS/Name This Game (Guardians of Treasure) (1983) (U.S. Games Corporation - JWDA, Roger Booth, Sylvia Day, Ron Dubren, Todd Marshall, Robin McDaniel, Wes Trager, Henry Will IV) (VC1007) ~.bin to /usr/local/lib/python3.7/dist-packages/atari_py/atari_roms/name_this_game.bin\n",
            "copying pacman.bin from ROMS/Pac-Man (1982) (Atari, Tod Frye) (CX2646) (PAL).bin to /usr/local/lib/python3.7/dist-packages/atari_py/atari_roms/pacman.bin\n",
            "copying phoenix.bin from ROMS/Phoenix (1983) (Atari - GCC, Mike Feinstein, John Mracek) (CX2673) ~.bin to /usr/local/lib/python3.7/dist-packages/atari_py/atari_roms/phoenix.bin\n",
            "copying video_pinball.bin from ROMS/Pinball (AKA Video Pinball) (Zellers).bin to /usr/local/lib/python3.7/dist-packages/atari_py/atari_roms/video_pinball.bin\n",
            "copying pitfall.bin from ROMS/Pitfall! - Pitfall Harry's Jungle Adventure (Jungle Runner) (1982) (Activision, David Crane) (AX-018, AX-018-04) ~.bin to /usr/local/lib/python3.7/dist-packages/atari_py/atari_roms/pitfall.bin\n",
            "copying pooyan.bin from ROMS/Pooyan (1983) (Konami) (RC 100-X 02) ~.bin to /usr/local/lib/python3.7/dist-packages/atari_py/atari_roms/pooyan.bin\n",
            "copying private_eye.bin from ROMS/Private Eye (1984) (Activision, Bob Whitehead) (AG-034-04) ~.bin to /usr/local/lib/python3.7/dist-packages/atari_py/atari_roms/private_eye.bin\n",
            "copying qbert.bin from ROMS/Q-bert (1983) (Parker Brothers - Western Technologies, Dave Hampton, Tom Sloper) (PB5360) ~.bin to /usr/local/lib/python3.7/dist-packages/atari_py/atari_roms/qbert.bin\n",
            "copying riverraid.bin from ROMS/River Raid (1982) (Activision, Carol Shaw) (AX-020, AX-020-04) ~.bin to /usr/local/lib/python3.7/dist-packages/atari_py/atari_roms/riverraid.bin\n",
            "copying road_runner.bin from patched version of ROMS/Road Runner (1989) (Atari - Bobco, Robert C. Polaro) (CX2663) ~.bin to /usr/local/lib/python3.7/dist-packages/atari_py/atari_roms/road_runner.bin\n",
            "copying robotank.bin from ROMS/Robot Tank (Robotank) (1983) (Activision, Alan Miller) (AZ-028, AG-028-04) ~.bin to /usr/local/lib/python3.7/dist-packages/atari_py/atari_roms/robotank.bin\n",
            "copying seaquest.bin from ROMS/Seaquest (1983) (Activision, Steve Cartwright) (AX-022) ~.bin to /usr/local/lib/python3.7/dist-packages/atari_py/atari_roms/seaquest.bin\n",
            "copying sir_lancelot.bin from ROMS/Sir Lancelot (1983) (Xonox - K-Tel Software - Product Guild, Anthony R. Henderson) (99006, 6220) (PAL).bin to /usr/local/lib/python3.7/dist-packages/atari_py/atari_roms/sir_lancelot.bin\n",
            "copying skiing.bin from ROMS/Skiing - Le Ski (1980) (Activision, Bob Whitehead) (AG-005, CAG-005, AG-005-04) ~.bin to /usr/local/lib/python3.7/dist-packages/atari_py/atari_roms/skiing.bin\n",
            "copying solaris.bin from ROMS/Solaris (The Last Starfighter, Star Raiders II, Universe) (1986) (Atari, Douglas Neubauer, Mimi Nyden) (CX26136) ~.bin to /usr/local/lib/python3.7/dist-packages/atari_py/atari_roms/solaris.bin\n",
            "copying space_invaders.bin from ROMS/Space Invaders (1980) (Atari, Richard Maurer - Sears) (CX2632 - 49-75153) ~.bin to /usr/local/lib/python3.7/dist-packages/atari_py/atari_roms/space_invaders.bin\n",
            "copying star_gunner.bin from ROMS/Stargunner (1983) (Telesys, Alex Leavens) (1005) ~.bin to /usr/local/lib/python3.7/dist-packages/atari_py/atari_roms/star_gunner.bin\n",
            "copying surround.bin from ROMS/Surround (32 in 1) (Bit Corporation) (R320).bin to /usr/local/lib/python3.7/dist-packages/atari_py/atari_roms/surround.bin\n",
            "copying tennis.bin from ROMS/Tennis - Le Tennis (1981) (Activision, Alan Miller) (AG-007, CAG-007) ~.bin to /usr/local/lib/python3.7/dist-packages/atari_py/atari_roms/tennis.bin\n",
            "copying time_pilot.bin from ROMS/Time Pilot (1983) (Coleco - Woodside Design Associates, Harley H. Puthuff Jr.) (2663) ~.bin to /usr/local/lib/python3.7/dist-packages/atari_py/atari_roms/time_pilot.bin\n",
            "copying trondead.bin from ROMS/TRON - Deadly Discs (TRON Joystick) (1983) (M Network - INTV - APh Technological Consulting, Jeff Ronne, Brett Stutz) (MT5662) ~.bin to /usr/local/lib/python3.7/dist-packages/atari_py/atari_roms/trondead.bin\n",
            "copying tutankham.bin from ROMS/Tutankham (1983) (Parker Brothers, Dave Engman, Dawn Stockbridge) (PB5340) ~.bin to /usr/local/lib/python3.7/dist-packages/atari_py/atari_roms/tutankham.bin\n",
            "copying up_n_down.bin from ROMS/Up 'n Down (1984) (SEGA - Beck-Tech, Steve Beck, Phat Ho) (009-01) ~.bin to /usr/local/lib/python3.7/dist-packages/atari_py/atari_roms/up_n_down.bin\n",
            "copying venture.bin from ROMS/Venture (1982) (Coleco, Joseph Biel) (2457) ~.bin to /usr/local/lib/python3.7/dist-packages/atari_py/atari_roms/venture.bin\n",
            "copying pong.bin from ROMS/Video Olympics - Pong Sports (Paddle) (1977) (Atari, Joe Decuir - Sears) (CX2621 - 99806, 6-99806, 49-75104) ~.bin to /usr/local/lib/python3.7/dist-packages/atari_py/atari_roms/pong.bin\n",
            "copying wizard_of_wor.bin from ROMS/Wizard of Wor (1982) (CBS Electronics - Roklan, Joe Hellesen, Joe Wagner) (M8774, M8794) ~.bin to /usr/local/lib/python3.7/dist-packages/atari_py/atari_roms/wizard_of_wor.bin\n",
            "copying yars_revenge.bin from ROMS/Yars' Revenge (Time Freeze) (1982) (Atari, Howard Scott Warshaw - Sears) (CX2655 - 49-75167) ~.bin to /usr/local/lib/python3.7/dist-packages/atari_py/atari_roms/yars_revenge.bin\n",
            "copying zaxxon.bin from ROMS/Zaxxon (1983) (Coleco) (2454) ~.bin to /usr/local/lib/python3.7/dist-packages/atari_py/atari_roms/zaxxon.bin\n"
          ]
        }
      ]
    },
    {
      "cell_type": "markdown",
      "metadata": {
        "id": "FTD_JdcbnNP2"
      },
      "source": [
        "# Playing Atrai games with Neural Network\n",
        "\n",
        "### Papers: \n",
        "- [Playing Atari with Deep Reinforcment Learning](https://arxiv.org/pdf/1312.5602.pdf)\n",
        "- [Human-level control through deep reinforcement learning](https://www.nature.com/articles/nature14236.pdf)"
      ]
    },
    {
      "cell_type": "code",
      "metadata": {
        "id": "bLn3lpxcfuBQ",
        "colab": {
          "base_uri": "https://localhost:8080/"
        },
        "outputId": "a1bba072-a089-490f-cb95-bd2d490dc7f0"
      },
      "source": [
        "# Mount google drive for you to save files in your drive\n",
        "from google.colab import drive\n",
        "drive.mount('/content/drive')"
      ],
      "execution_count": null,
      "outputs": [
        {
          "output_type": "stream",
          "name": "stdout",
          "text": [
            "Mounted at /content/drive\n"
          ]
        }
      ]
    },
    {
      "cell_type": "code",
      "metadata": {
        "id": "Qt4u8-60gW2I",
        "colab": {
          "base_uri": "https://localhost:8080/"
        },
        "outputId": "4dc5704b-6942-4505-8de3-fe5f3ea23f5e"
      },
      "source": [
        "# Before running this create a folder named DQN to save files inside there\n",
        "%cd /content/drive/My\\ Drive/DQN "
      ],
      "execution_count": null,
      "outputs": [
        {
          "output_type": "stream",
          "name": "stdout",
          "text": [
            "/content/drive/My Drive/DQN\n"
          ]
        }
      ]
    },
    {
      "cell_type": "code",
      "metadata": {
        "id": "utMpKX4Sme8X"
      },
      "source": [
        "import gym\n",
        "import numpy as np\n",
        "import tensorflow as tf\n",
        "import random\n",
        "import time\n",
        "from matplotlib import pyplot as plt\n",
        "%matplotlib inline\n",
        "from IPython import display\n",
        "from collections import deque, namedtuple"
      ],
      "execution_count": null,
      "outputs": []
    },
    {
      "cell_type": "code",
      "metadata": {
        "id": "igkRyVhKnioq"
      },
      "source": [
        "# Helper function to display each state as gym's render itself doesn't work on colab\n",
        "def show_state(env, step=0, info=\"\"):\n",
        "    plt.figure(3)\n",
        "    plt.clf()\n",
        "    plt.imshow(env.render(mode='rgb_array'))\n",
        "    plt.axis('off')\n",
        "\n",
        "    display.clear_output(wait=True)\n",
        "    display.display(plt.gcf())"
      ],
      "execution_count": null,
      "outputs": []
    },
    {
      "cell_type": "code",
      "metadata": {
        "id": "v7pSupQ1mvSZ",
        "colab": {
          "base_uri": "https://localhost:8080/",
          "height": 497
        },
        "outputId": "5e1cc1dd-2b82-439f-b969-6fcda5cc9b57"
      },
      "source": [
        "# Random play\n",
        "env = gym.make('MsPacman-ram-v0')\n",
        "for i_episode in range(1):\n",
        "    observation = env.reset()\n",
        "    for t in range(200):\n",
        "        show_state(env)\n",
        "        action = env.action_space.sample()\n",
        "        observation, reward, done, info = env.step(action)\n",
        "        print(reward, done, info)\n",
        "        \n",
        "        if done:\n",
        "            print(\"Episode finished after {} timesteps\".format(t+1))\n",
        "            break\n",
        "env.close()"
      ],
      "execution_count": null,
      "outputs": [
        {
          "output_type": "display_data",
          "data": {
            "image/png": "[encoded data removed]",
            "text/plain": [
              "<Figure size 432x288 with 1 Axes>"
            ]
          },
          "metadata": {}
        },
        {
          "output_type": "stream",
          "name": "stdout",
          "text": [
            "0.0 False {'ale.lives': 3}\n"
          ]
        },
        {
          "output_type": "display_data",
          "data": {
            "image/png": "[encoded data removed]",
            "text/plain": [
              "<Figure size 432x288 with 1 Axes>"
            ]
          },
          "metadata": {
            "needs_background": "light"
          }
        }
      ]
    },
    {
      "cell_type": "code",
      "metadata": {
        "id": "YsSUYtG9VDlr",
        "colab": {
          "base_uri": "https://localhost:8080/"
        },
        "outputId": "d393d87a-ee62-48f1-d0ed-c7d7a287f5a8"
      },
      "source": [
        "observation, observation.max()"
      ],
      "execution_count": null,
      "outputs": [
        {
          "output_type": "execute_result",
          "data": {
            "text/plain": [
              "(array([  0,  50,  33,  34,  82,  35,  18, 117, 110,  66,  80,   0, 127,\n",
              "         98,  71,  88,  98,   0,   1,   3,   0,   0,   0,   0,   0,   1,\n",
              "         10,   8, 133,   7, 156,   0,  45,   2,   0, 208,  57, 232, 232,\n",
              "        255,   0,   0,  17,  37,  36, 120,   0,  53,  82, 109, 121, 134,\n",
              "          3, 222,   0,   1,   3,   0,   8,  80, 255, 255,   0, 255, 255,\n",
              "         80, 255, 255,  80, 255, 255,  80, 255, 255,  80, 191, 191,  80,\n",
              "        191, 191,  80, 191, 191,  80, 191, 171,  80, 255, 239,  80, 255,\n",
              "        175,  80, 255, 255,   0, 255, 255,  80, 255, 255,  20, 223,  43,\n",
              "        217,  99, 217, 123, 217, 123, 217, 123, 217, 123, 217, 221,   0,\n",
              "         63,   1,   7, 112,   0,   0,   2,  98, 250, 146, 215], dtype=uint8),\n",
              " 255)"
            ]
          },
          "metadata": {},
          "execution_count": 9
        }
      ]
    },
    {
      "cell_type": "code",
      "metadata": {
        "id": "OwFigZq6o_Ys",
        "colab": {
          "base_uri": "https://localhost:8080/"
        },
        "outputId": "fef7d7d0-6600-4459-b292-6dc143156be7"
      },
      "source": [
        "env.unwrapped.get_action_meanings()"
      ],
      "execution_count": null,
      "outputs": [
        {
          "output_type": "execute_result",
          "data": {
            "text/plain": [
              "['NOOP',\n",
              " 'UP',\n",
              " 'RIGHT',\n",
              " 'LEFT',\n",
              " 'DOWN',\n",
              " 'UPRIGHT',\n",
              " 'UPLEFT',\n",
              " 'DOWNRIGHT',\n",
              " 'DOWNLEFT']"
            ]
          },
          "metadata": {},
          "execution_count": 10
        }
      ]
    },
    {
      "cell_type": "code",
      "metadata": {
        "id": "tZN02CEBVvPn"
      },
      "source": [
        "ENV_NAME = \"MsPacman-ram-v0\"            # Environment name\n",
        "env = gym.make(ENV_NAME)\n",
        "ACTION_SIZE = env.action_space.n        # number of possible actions\n",
        "INPUT_DIM = env.observation_space.shape # input dimension for the network\n",
        "BUFFER_SIZE = int(1e6)                  # replay buffer size\n",
        "BATCH_SIZE = 32                         # minibatch size\n",
        "GAMMA = 0.99                            # discount factor\n",
        "PARAM_UPDATE_EVERY = 10                 # how often to update the parameters\n",
        "TARGET_UPDATE_EVERY = 10000             # how often to update the target network\n",
        "START_LEARNING = 1000                   # start learning after how many steps\n",
        "\n",
        "env.close()"
      ],
      "execution_count": 29,
      "outputs": []
    },
    {
      "cell_type": "code",
      "metadata": {
        "id": "BjmDxAi9pZWl"
      },
      "source": [
        "class ReplayBuffer:\n",
        "    def __init__(self, size=BUFFER_SIZE, input_shape=INPUT_DIM):\n",
        "        \"\"\"\n",
        "        Arguments:\n",
        "            size: Integer, Number of stored transitions\n",
        "            input_shape: Shape of the preprocessed frame\n",
        "        \"\"\"\n",
        "        self.size = size\n",
        "        self.input_shape = input_shape\n",
        "        self.count = 0    # total index of memory written to, always less than self.size\n",
        "        self.current = 0  # index to write to\n",
        "\n",
        "        # Pre-allocate memory\n",
        "        self.actions = np.empty(self.size, dtype=np.int32)\n",
        "        self.rewards = np.empty(self.size, dtype=np.float32)\n",
        "        self.states = np.empty((self.size, *self.input_shape), dtype=np.float32)\n",
        "        self.next_states = np.empty((self.size, *self.input_shape), dtype=np.float32)\n",
        "        self.dones = np.empty(self.size, dtype=np.bool)\n",
        "\n",
        "\n",
        "    def add(self, state, action, reward, next_state, done):\n",
        "        \"\"\"Saves a transition to the replay buffer\n",
        "        Arguments:\n",
        "            action: An integer between 0 and env.action_space.n - 1 \n",
        "                determining the action the agent perfomed\n",
        "            state: Current state information of the game. For the current env, it is a (128,) array consisting of the information in the RAM\n",
        "            next_state: Next state resulted by the action taken\n",
        "            reward: A float determining the reward the agend received for performing an action\n",
        "            done: A bool stating whether the episode terminated\n",
        "        \"\"\"\n",
        "\n",
        "        self.actions[self.current] = action\n",
        "        self.states[self.current, ...] = state\n",
        "        self.next_states[self.current, ...] = next_state\n",
        "        self.rewards[self.current] = reward\n",
        "        self.dones[self.current] = done\n",
        "        self.count = max(self.count, self.current+1)\n",
        "        self.current = (self.current + 1) % self.size\n",
        "\n",
        "    def sample(self, batch_size=BATCH_SIZE):\n",
        "        \"\"\"Returns a minibatch of self.batch_size = 32 transitions\n",
        "        Arguments:\n",
        "            batch_size: How many samples to return\n",
        "        Returns:\n",
        "            A tuple of states, actions, rewards, new_states, and dones\n",
        "        \"\"\"\n",
        "\n",
        "        # Get a list of valid indices randomly\n",
        "        indices = random.sample(range(0, self.count), batch_size)\n",
        "       \n",
        "        states = tf.convert_to_tensor(self.states[indices], dtype=tf.float32)\n",
        "        actions = tf.convert_to_tensor(self.actions[indices], dtype=tf.int32)\n",
        "        rewards = tf.convert_to_tensor(self.rewards[indices], dtype=tf.float32)\n",
        "        next_states = tf.convert_to_tensor(self.next_states[indices], dtype=tf.float32)\n",
        "        dones = tf.convert_to_tensor(self.dones[indices], dtype=tf.float32)\n",
        "        return states,  actions, rewards, next_states, dones\n",
        "\n",
        "    def save(self):\n",
        "        \"\"\"Save the replay buffer to a folder\"\"\"\n",
        "        np.save('actions.npy', self.actions)\n",
        "        np.save('states.npy', self.sates)\n",
        "        np.save('next_states.npy', self.next_states)\n",
        "        np.save('rewards.npy', self.rewards)\n",
        "        np.save('dones.npy', self.dones)\n",
        "\n",
        "    def load(self):\n",
        "        \"\"\"Loads the replay buffer from a folder\"\"\"\n",
        "        self.actions = np.load('actions.npy')\n",
        "        self.states = np.load('states.npy')\n",
        "        self.next_states = np.load('next_states.npy')\n",
        "        self.rewards = np.load('rewards.npy')\n",
        "        self.dones = np.load('dones.npy')\n",
        "    \n",
        "    def __len__(self):\n",
        "        return self.count"
      ],
      "execution_count": 35,
      "outputs": []
    },
    {
      "cell_type": "code",
      "metadata": {
        "id": "pYn5jG8Oq2jE"
      },
      "source": [
        "class Agent():\n",
        "\n",
        "    def __init__(self, input_dim, action_size=9, seed=123):\n",
        "\n",
        "        # Iniitialize the models, ensure target has same weights as local\n",
        "        tf.random.set_seed(seed)\n",
        "        self.local_model = self.__build_model__(input_dim, action_size)\n",
        "        self.local_model.compile(optimizer=tf.keras.optimizers.Adam(\n",
        "            learning_rate=0.0001))\n",
        "        self.target_model = self.__build_model__(input_dim, action_size)\n",
        "        self.target_model.set_weights(self.local_model.get_weights())\n",
        "\n",
        "        self.action_size = action_size\n",
        "        self.input_dim = input_dim\n",
        "        self.start_learning = False\n",
        "\n",
        "        # Empty memory buffer\n",
        "        self.memory = ReplayBuffer()\n",
        "        \n",
        "        # To count number of steps agent has played\n",
        "        self.t_step = 0\n",
        "\n",
        "    def __build_model__(self, input_dim, action_size):\n",
        "        # Simple one layer model created here\n",
        "        input_layer = tf.keras.layers.Input(shape=input_dim)\n",
        "        x = tf.keras.layers.Dense(512, activation=\"relu\", kernel_initializer=tf.keras.initializers.VarianceScaling(scale=2.))(input_layer)\n",
        "        output = tf.keras.layers.Dense(action_size, kernel_initializer=tf.keras.initializers.VarianceScaling(scale=2.))(x)\n",
        "\n",
        "        \"\"\"\n",
        "        # If you would want to do image output you can replace abouve bit with these \n",
        "        # this architecture was suggested by the paper as well\n",
        "\n",
        "\n",
        "        input_layer = tf.keras.layers.Input(shape=input_dim)\n",
        "        x = tf.keras.layers.Conv2D(32, (3,3), strides=4, activation=\"relu\", kernel_initializer=tf.keras.initializers.VarianceScaling(scale=2.))(input_layer)\n",
        "        x = tf.keras.layers.Conv2D(64, (3,3), strides=2, activation=\"relu\", kernel_initializer=tf.keras.initializers.VarianceScaling(scale=2.))(x)\n",
        "        x = tf.keras.layers.Conv2D(64, (3,3), strides=1, activation=\"relu\", kernel_initializer=tf.keras.initializers.VarianceScaling(scale=2.))(x)\n",
        "        x = tf.keras.layers.Flatten()(x)\n",
        "        x = tf.keras.layers.Dense(512, activation=\"relu\", kernel_initializer=tf.keras.initializers.VarianceScaling(scale=2.))(x)\n",
        "        output = tf.keras.layers.Dense(action_size, kernel_initializer=tf.keras.initializers.VarianceScaling(scale=2.))(x)\n",
        "\n",
        "        \"\"\"\n",
        "    \n",
        "        return tf.keras.Model(inputs=input_layer, outputs=output)\n",
        "    \n",
        "    \n",
        "    def step(self, state, action, reward, next_state, done):\n",
        "        # Save experience in replay memory\n",
        "        self.memory.add(state, action, reward, next_state, done)\n",
        "        \n",
        "        self.t_step = self.t_step + 1 \n",
        "        \n",
        "        # Only after START_LEARNING step the model starts learning and updating the local model. Does to accumulate transitions in the memory buffer\n",
        "        if not self.start_learning and self.t_step % START_LEARNING == 0:\n",
        "            self.start_learning = True\n",
        "            \n",
        "        # If enough samples are available in memory, get random subset and learn\n",
        "        if len(self.memory) > BATCH_SIZE and self.start_learning and self.t_step % PARAM_UPDATE_EVERY == 0:\n",
        "            experiences = self.memory.sample()\n",
        "            self.learn(experiences, GAMMA)\n",
        "\n",
        "        # Every TARGEt_UPDATE_EVERY step update target network to be same as local network        \n",
        "        if self.start_learning and self.t_step % TARGET_UPDATE_EVERY == 0:\n",
        "            self.update_target_network()\n",
        "            self.t_step = 0\n",
        "\n",
        "    def act(self, state, eps=0.):\n",
        "        # Epsilon greedy policy\n",
        "        # Lower the epsilon, more likely agent takes action determined by the model instead of random action.\n",
        "        action_values = self.local_model.predict(state)\n",
        "        if random.random() > eps:\n",
        "            action = np.argmax(action_values)\n",
        "        else:\n",
        "            action = random.choice(np.arange(self.action_size))\n",
        "        \n",
        "        return action\n",
        "    \n",
        "    def learn(self, experiences, gamma):\n",
        "        states, actions, rewards, next_states, dones = experiences\n",
        "        # Get max predicted Q values (for next states) from target model\n",
        "        target_q_next = tf.reduce_max(self.target_model.predict(next_states), axis=1)\n",
        "        target_q = rewards + (gamma * target_q_next * (1-dones))\n",
        "\n",
        "        # Block here determiens Q value for current state using local model. Only collects the Q value for action taken and determiens Huber loss between local model's Q\n",
        "        # vs target model's Q value. \n",
        "        with tf.GradientTape() as tape:\n",
        "            q_values = self.local_model(states, training=True)\n",
        "            one_hot_actions = tf.keras.utils.to_categorical(actions, self.action_size, dtype=np.float32)\n",
        "            predicted_q = tf.reduce_sum(tf.multiply(q_values, one_hot_actions), axis=1)\n",
        "            loss = tf.keras.losses.Huber()(target_q, predicted_q)\n",
        "        \n",
        "        # Uses the loss to determien gradients and apply the changes to local model's weights\n",
        "        model_gradients = tape.gradient(loss, self.local_model.trainable_weights)\n",
        "        self.local_model.optimizer.apply_gradients(zip(model_gradients, self.local_model.trainable_weights))\n",
        "\n",
        "    def update_target_network(self):\n",
        "        self.target_model.set_weights(self.local_model.get_weights())\n"
      ],
      "execution_count": 36,
      "outputs": []
    },
    {
      "cell_type": "code",
      "metadata": {
        "id": "KXlf97dPXzsK"
      },
      "source": [
        "def evaluate(agent, render=False):\n",
        "    env = gym.make(ENV_NAME)\n",
        "    state = env.reset()\n",
        "    state = tf.cast(state, tf.float32)\n",
        "    state /= 255\n",
        "    state = tf.expand_dims(state, axis=0)\n",
        "    score = 0\n",
        "    lives = 3\n",
        "    for t in range(400):\n",
        "        if render:\n",
        "            show_state(env)\n",
        "        action = int(agent.act(state, 0.))\n",
        "        state, reward, done, info = env.step(action)\n",
        "        if info['ale.lives'] < lives:\n",
        "            reward = -1.0\n",
        "            lives = info['ale.lives']\n",
        "            life_lost = True\n",
        "        elif reward > 0:\n",
        "            reward = 1\n",
        "        state = tf.cast(state, tf.float32)\n",
        "        state /= 255\n",
        "        state = tf.expand_dims(state, axis=0)\n",
        "        score += reward\n",
        "        if done and lives == 0:\n",
        "            break\n",
        "    env.close()\n",
        "    return score"
      ],
      "execution_count": 37,
      "outputs": []
    },
    {
      "cell_type": "code",
      "metadata": {
        "id": "yoCr5dQ0pm6d"
      },
      "source": [
        "def dqn(agent, n_episodes=2000, max_t=2000, eps_start=1.0, eps_end=0.01, eps_decay=0.9969, train=True, window_size=50):\n",
        "    \"\"\"Deep Q-Learning.\n",
        "    \n",
        "    Params\n",
        "    ======\n",
        "        n_episodes (int): maximum number of training episodes\n",
        "        max_t (int): maximum number of timesteps per episode\n",
        "        eps_start (float): starting value of epsilon, for epsilon-greedy action selection\n",
        "        eps_end (float): minimum value of epsilon\n",
        "        eps_decay (float): multiplicative factor (per episode) for decreasing epsilon\n",
        "        train (bool): to update agent or not\n",
        "    \"\"\"\n",
        "    max_score = -100\n",
        "    scores = []                                # list containing scores from each episode\n",
        "    scores_window = deque(maxlen=window_size)  # last window_size scores\n",
        "    eps = eps_start                            # initialize epsilon\n",
        "    print(\"Starting training\")\n",
        "    \n",
        "    env = gym.make(ENV_NAME)\n",
        "    for i_episode in range(1, n_episodes+1):\n",
        "        state = env.reset()\n",
        "        state = tf.cast(state, tf.float32)\n",
        "        state /= 255\n",
        "        score = 0\n",
        "        lives = 3\n",
        "        for t in range(max_t):\n",
        "            action = int(agent.act(tf.expand_dims(state, axis=0), eps))\n",
        "            next_state, reward, done, info = env.step(action) \n",
        "\n",
        "            # modifying rewards to make agent aware doing nothing or losing life is bad\n",
        "            # and clipping any positive score to 1, as it helps stable learning.\n",
        "            if info['ale.lives'] < lives:\n",
        "                reward = -1.0\n",
        "                done = True\n",
        "                lives = info['ale.lives']\n",
        "            elif reward > 0:\n",
        "                reward = 1\n",
        "            else:\n",
        "                reward = -0.5\n",
        "\n",
        "            next_state = tf.cast(next_state, tf.float32)\n",
        "            next_state /= 255.0\n",
        "            \n",
        "            if train:\n",
        "                agent.step(state, action, reward, next_state, done)\n",
        "\n",
        "            state = next_state\n",
        "\n",
        "            score += reward\n",
        "            if done and lives == 0:\n",
        "                break\n",
        "                \n",
        "        scores_window.append(score)       # save most recent score\n",
        "        scores.append(score)              # save most recent score\n",
        "        \n",
        "        print('\\rEpisode {}\\tT_Step: {},Average Score: {:.2f},Max score: {:.2f},Min score: {:.2f},eps: {:.2f}'.format(i_episode, agent.t_step, np.mean(scores_window), np.max(scores_window), np.min(scores_window), eps), end=\"\")\n",
        "        if train:\n",
        "            eps = max(eps_end, eps_decay*eps) # decrease epsilon\n",
        "            if i_episode % window_size == 0:\n",
        "                # agent.memory.save() # Commnted out this as it takes up a lot of space \n",
        "                agent.local_model.save_weights('pacman_local_model_checkpoint_v2')\n",
        "                agent.target_model.save_weights('pacman_target_model_checkpoint_v2')\n",
        "                print('\\rEpisode {}\\tAverage Score: {:.2f},Max score: {:.2f},Min score: {:.2f},eps: {:.3f}'.format(i_episode, np.mean(scores_window), np.max(scores_window), np.min(scores_window), eps))\n",
        "    env.close()\n",
        "    return scores"
      ],
      "execution_count": 38,
      "outputs": []
    },
    {
      "cell_type": "code",
      "metadata": {
        "id": "XdGSyPjjVxXP"
      },
      "source": [
        "agent = Agent(INPUT_DIM, ACTION_SIZE)\n",
        "# agent.local_model.load_weights('pacman_local_model_checkpoint')\n",
        "# agent.update_target_network()"
      ],
      "execution_count": null,
      "outputs": []
    },
    {
      "cell_type": "code",
      "metadata": {
        "id": "HwWn4YNPWOKo",
        "colab": {
          "base_uri": "https://localhost:8080/"
        },
        "outputId": "49c55d09-8fba-4969-b550-a2c6ec223e74"
      },
      "source": [
        "scores = dqn(agent, n_episodes=1000, max_t=400, eps_start=1.0, eps_decay=0.995)"
      ],
      "execution_count": null,
      "outputs": [
        {
          "output_type": "stream",
          "name": "stdout",
          "text": [
            "Starting training\n",
            "Episode 2\tT_Step: 800,Average Score: -176.50,Max score: -175.00,Min score: -178.00,eps: 0.99Starting learning from 1000\n",
            "Episode 50\tAverage Score: -174.91,Max score: -152.00,Min score: -184.50,eps: 0.778\n",
            "Episode 100\tAverage Score: -170.16,Max score: -149.00,Min score: -187.50,eps: 0.606\n",
            "Episode 150\tAverage Score: -166.80,Max score: -141.50,Min score: -182.50,eps: 0.471\n",
            "Episode 200\tAverage Score: -162.11,Max score: -140.00,Min score: -178.00,eps: 0.367\n",
            "Episode 250\tAverage Score: -157.48,Max score: -128.00,Min score: -181.50,eps: 0.286\n",
            "Episode 295\tT_Step: 8000,Average Score: -156.23,Max score: -125.00,Min score: -181.00,eps: 0.23"
          ]
        }
      ]
    },
    {
      "cell_type": "code",
      "metadata": {
        "id": "QNpihCQ5VJ3v"
      },
      "source": [
        "evaluate(agent, True)"
      ],
      "execution_count": null,
      "outputs": []
    },
    {
      "cell_type": "code",
      "metadata": {
        "id": "0z-uUnt2V83U",
        "colab": {
          "base_uri": "https://localhost:8080/",
          "height": 496
        },
        "outputId": "113df6d6-799c-4309-d7ba-0259d2c2bc69"
      },
      "source": [
        "agent = Agent(INPUT_DIM, ACTION_SIZE)\n",
        "agent.local_model.load_weights('pacman_local_model_checkpoint')\n",
        "agent.update_target_network()\n",
        "evaluate(agent, True)"
      ],
      "execution_count": 27,
      "outputs": [
        {
          "output_type": "display_data",
          "data": {
            "image/png": "[encoded data removed]",
            "text/plain": [
              "<Figure size 432x288 with 1 Axes>"
            ]
          },
          "metadata": {}
        },
        {
          "output_type": "execute_result",
          "data": {
            "text/plain": [
              "27.0"
            ]
          },
          "metadata": {},
          "execution_count": 27
        },
        {
          "output_type": "display_data",
          "data": {
            "image/png": "[encoded data removed]",
            "text/plain": [
              "<Figure size 432x288 with 1 Axes>"
            ]
          },
          "metadata": {
            "needs_background": "light"
          }
        }
      ]
    },
    {
      "cell_type": "code",
      "metadata": {
        "id": "MMrC4QPSAg-L"
      },
      "source": [
        ""
      ],
      "execution_count": null,
      "outputs": []
    }
  ]
}